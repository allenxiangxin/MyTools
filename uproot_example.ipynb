{
 "cells": [
  {
   "cell_type": "markdown",
   "metadata": {},
   "source": [
    "# High level analysis example via uproot\n",
    "\n",
    "`uproot` is a python package that allows users to read `ROOT` files without acutally compiling `ROOT`. I believe this is a step up in terms of making the experimental analysis more accessible. This is a very minimal example on how to extract info from a `TTree` object, and how to read the histograms (`TH1`, `TH2`).  "
   ]
  },
  {
   "cell_type": "code",
   "execution_count": 1,
   "metadata": {},
   "outputs": [],
   "source": [
    "import uproot\n",
    "import numpy as np\n",
    "import matplotlib.pyplot as plt"
   ]
  },
  {
   "cell_type": "markdown",
   "metadata": {},
   "source": [
    "## Example on how to read a root tree"
   ]
  },
  {
   "cell_type": "code",
   "execution_count": 2,
   "metadata": {},
   "outputs": [
    {
     "data": {
      "text/plain": [
       "[b'DataTree;1', b'HeaderTree;1']"
      ]
     },
     "execution_count": 2,
     "metadata": {},
     "output_type": "execute_result"
    }
   ],
   "source": [
    "# There are two trees in this root files\n",
    "file = uproot.open(\"data/test_flat_v3.root\")\n",
    "file.keys()"
   ]
  },
  {
   "cell_type": "code",
   "execution_count": 3,
   "metadata": {},
   "outputs": [
    {
     "data": {
      "text/plain": [
       "[b'fUniqueID',\n",
       " b'fBits',\n",
       " b'iEventNumber',\n",
       " b'iRunNumber',\n",
       " b'volumes',\n",
       " b'volumes_sName',\n",
       " b'volumes_iVolumeID',\n",
       " b'volumes_dTotalEnergyDep_keV',\n",
       " b'volumes_iTotalOptPhotNumber',\n",
       " b'volumes_iTotalThermElecNumber',\n",
       " b'primaryParticles',\n",
       " b'primaryParticles_sName',\n",
       " b'primaryParticles_dPosition_mm_x',\n",
       " b'primaryParticles_dPosition_mm_y',\n",
       " b'primaryParticles_dPosition_mm_z',\n",
       " b'primaryParticles_dDirection_x',\n",
       " b'primaryParticles_dDirection_y',\n",
       " b'primaryParticles_dDirection_z',\n",
       " b'primaryParticles_dEnergy_keV',\n",
       " b'primaryParticles_dTime_ns',\n",
       " b'primaryParticles_sVolumeName',\n",
       " b'primaryParticles_iVolumeID',\n",
       " b'tracks',\n",
       " b'tracks_sParticleName',\n",
       " b'tracks_iParticleID',\n",
       " b'tracks_iTrackID',\n",
       " b'tracks_iParentID',\n",
       " b'tracks_sCreatorProcess',\n",
       " b'tracks_dWavelength_nm',\n",
       " b'tracks_dCharge',\n",
       " b'tracks_steps',\n",
       " b'tracks_steps_iStepNumber',\n",
       " b'tracks_steps_sProcess',\n",
       " b'tracks_steps_sVolumeName',\n",
       " b'tracks_steps_iVolumeID',\n",
       " b'tracks_steps_dPosition_mm_x',\n",
       " b'tracks_steps_dPosition_mm_y',\n",
       " b'tracks_steps_dPosition_mm_z',\n",
       " b'tracks_steps_dDirection_x',\n",
       " b'tracks_steps_dDirection_y',\n",
       " b'tracks_steps_dDirection_z',\n",
       " b'tracks_steps_dTime_ns',\n",
       " b'tracks_steps_dParticleEnergy_keV',\n",
       " b'tracks_steps_dEnergyDep_keV',\n",
       " b'tracks_steps_trackIndex']"
      ]
     },
     "execution_count": 3,
     "metadata": {},
     "output_type": "execute_result"
    }
   ],
   "source": [
    "# The DataTree has many branches. \n",
    "t = file[\"DataTree\"]\n",
    "t.keys()"
   ]
  },
  {
   "cell_type": "code",
   "execution_count": 4,
   "metadata": {},
   "outputs": [
    {
     "data": {
      "image/png": "[encoded data removed]",
      "text/plain": [
       "<Figure size 432x288 with 1 Axes>"
      ]
     },
     "metadata": {},
     "output_type": "display_data"
    }
   ],
   "source": [
    "dep_ene =  t[\"volumes_dTotalEnergyDep_keV\"].array()\n",
    "h = plt.hist(dep_ene.flatten(), 40)"
   ]
  },
  {
   "cell_type": "markdown",
   "metadata": {},
   "source": [
    "## Example on how to read histogram"
   ]
  },
  {
   "cell_type": "code",
   "execution_count": 5,
   "metadata": {},
   "outputs": [
    {
     "data": {
      "text/plain": [
       "[b'hB8;1',\n",
       " b'hhep;1',\n",
       " b'hDSN;1',\n",
       " b'hatm;1',\n",
       " b'hPP;1',\n",
       " b'h2vBB;1',\n",
       " b'hKr85;1',\n",
       " b'hRn222;1',\n",
       " b'hRn220;1',\n",
       " b'hDetER;1',\n",
       " b'hDetNR;1']"
      ]
     },
     "execution_count": 5,
     "metadata": {},
     "output_type": "execute_result"
    }
   ],
   "source": [
    "h_file = uproot.open(\"data/All_BG.root\")\n",
    "h_file.keys()"
   ]
  },
  {
   "cell_type": "code",
   "execution_count": 6,
   "metadata": {},
   "outputs": [
    {
     "data": {
      "image/png": "[encoded data removed]",
      "text/plain": [
       "<Figure size 432x288 with 1 Axes>"
      ]
     },
     "metadata": {},
     "output_type": "display_data"
    }
   ],
   "source": [
    "h =  h_file[\"hKr85\"]\n",
    "xmax = h.xhigh\n",
    "xmin = h.xlow\n",
    "ymax = h.yhigh\n",
    "ymin = h.ylow\n",
    "nbinx = h.xnumbins\n",
    "nbiny = h.ynumbins\n",
    "\n",
    "x = np.linspace(xmin, xmax, nbinx+1)\n",
    "y = np.linspace(ymin, ymax, nbiny+1)\n",
    "X, Y = np.meshgrid(0.5*(x[1:]+x[:-1]), 0.5*(y[1:]+y[:-1]))\n",
    "\n",
    "Z = np.array(h.values)\n",
    "eps=1e-6\n",
    "np.seterr(divide='ignore') #ignore log(0) produced warning message\n",
    "plt.pcolormesh(X,Y,np.log10(Z))\n",
    "plt.yscale('log')\n",
    "plt.xlabel('S1c [phd]')\n",
    "plt.ylabel('S2c [phd]')\n",
    "plt.title('Kr85')\n",
    "plt.show()"
   ]
  }
 ],
 "metadata": {
  "kernelspec": {
   "display_name": "Python 3",
   "language": "python",
   "name": "python3"
  },
  "language_info": {
   "codemirror_mode": {
    "name": "ipython",
    "version": 3
   },
   "file_extension": ".py",
   "mimetype": "text/x-python",
   "name": "python",
   "nbconvert_exporter": "python",
   "pygments_lexer": "ipython3",
   "version": "3.6.5"
  }
 },
 "nbformat": 4,
 "nbformat_minor": 2
}
